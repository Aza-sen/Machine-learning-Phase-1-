{
  "nbformat": 4,
  "nbformat_minor": 0,
  "metadata": {
    "colab": {
      "provenance": []
    },
    "kernelspec": {
      "name": "python3",
      "display_name": "Python 3"
    },
    "language_info": {
      "name": "python"
    }
  },
  "cells": [
    {
      "cell_type": "code",
      "execution_count": null,
      "metadata": {
        "colab": {
          "base_uri": "https://localhost:8080/"
        },
        "id": "martIXJfhGA_",
        "outputId": "413dda4a-9f2a-4a3e-a851-4213d03139a1"
      },
      "outputs": [
        {
          "output_type": "stream",
          "name": "stdout",
          "text": [
            "[[ 1]\n",
            " [ 2]\n",
            " [ 3]\n",
            " [ 4]\n",
            " [ 5]\n",
            " [ 6]\n",
            " [ 7]\n",
            " [ 8]\n",
            " [ 9]\n",
            " [10]]\n"
          ]
        }
      ],
      "source": [
        "import numpy as np\n",
        "import matplotlib.pyplot as plt\n",
        "import pandas as pd\n",
        "\n",
        "dataset = pd.read_csv('Position_Salaries.csv')\n",
        "X = dataset.iloc[:,[1]].values\n",
        "y = dataset.iloc[:, -1].values\n",
        "\n",
        "print(X)"
      ]
    },
    {
      "cell_type": "markdown",
      "source": [
        "linear regression"
      ],
      "metadata": {
        "id": "-Ka5lMXlh5Rx"
      }
    },
    {
      "cell_type": "code",
      "source": [
        "from sklearn.linear_model import LinearRegression\n",
        "\n",
        "regressor_lin=LinearRegression()\n",
        "\n",
        "regressor_lin.fit(X,y)\n",
        "\n",
        "print(regressor_lin.predict([[6.5]]))\n",
        "\n",
        "\n"
      ],
      "metadata": {
        "colab": {
          "base_uri": "https://localhost:8080/"
        },
        "id": "4RjuGwKYh1sf",
        "outputId": "81ddfc3e-b079-4a25-8ed0-88bd5f68cf33"
      },
      "execution_count": null,
      "outputs": [
        {
          "output_type": "stream",
          "name": "stdout",
          "text": [
            "[330378.78787879]\n"
          ]
        }
      ]
    },
    {
      "cell_type": "markdown",
      "source": [
        "polynomial linear regression"
      ],
      "metadata": {
        "id": "gqwn8rhZiqiL"
      }
    },
    {
      "cell_type": "code",
      "source": [
        "from sklearn.preprocessing import PolynomialFeatures  \n",
        "poly_reg = PolynomialFeatures(degree=9)  #first create a matrix of features witch contain x and x^2 as degree input is 2\\\n",
        "\n",
        "X_poly=poly_reg.fit_transform(X)\n",
        "lin_reg = LinearRegression()\n",
        "lin_reg.fit(X_poly,y)\n",
        "\n",
        "\n"
      ],
      "metadata": {
        "colab": {
          "base_uri": "https://localhost:8080/"
        },
        "id": "zXxXYD5gizJ_",
        "outputId": "54685842-cf3b-41d8-dec0-2ccfc3103049"
      },
      "execution_count": null,
      "outputs": [
        {
          "output_type": "execute_result",
          "data": {
            "text/plain": [
              "LinearRegression()"
            ]
          },
          "metadata": {},
          "execution_count": 17
        }
      ]
    },
    {
      "cell_type": "code",
      "source": [
        "plt.scatter(X,y,color='red')\n",
        "plt.plot(X, regressor_lin.predict(X))\n",
        "plt.xlabel('levels')\n",
        "plt.ylabel('prediction')\n"
      ],
      "metadata": {
        "colab": {
          "base_uri": "https://localhost:8080/",
          "height": 307
        },
        "id": "kfT6QomllUsj",
        "outputId": "fc2ed982-52cd-4e7d-9632-4585e76f623a"
      },
      "execution_count": null,
      "outputs": [
        {
          "output_type": "execute_result",
          "data": {
            "text/plain": [
              "Text(0, 0.5, 'prediction')"
            ]
          },
          "metadata": {},
          "execution_count": 8
        },
        {
          "output_type": "display_data",
          "data": {
            "text/plain": [
              "<Figure size 432x288 with 1 Axes>"
            ],
            "image/png": "[encoded data removed]"
          },
          "metadata": {
            "needs_background": "light"
          }
        }
      ]
    },
    {
      "cell_type": "code",
      "source": [
        "plt.scatter(X,y,color='red')\n",
        "plt.plot(X, lin_reg.predict(X_poly))\n",
        "plt.xlabel('levels')\n",
        "plt.ylabel('prediction')"
      ],
      "metadata": {
        "colab": {
          "base_uri": "https://localhost:8080/",
          "height": 307
        },
        "id": "gBHhcae7mQXI",
        "outputId": "92cd70d0-b3ef-44af-c590-2b4ced6c1287"
      },
      "execution_count": null,
      "outputs": [
        {
          "output_type": "execute_result",
          "data": {
            "text/plain": [
              "Text(0, 0.5, 'prediction')"
            ]
          },
          "metadata": {},
          "execution_count": 18
        },
        {
          "output_type": "display_data",
          "data": {
            "text/plain": [
              "<Figure size 432x288 with 1 Axes>"
            ],
            "image/png": "[encoded data removed]"
          },
          "metadata": {
            "needs_background": "light"
          }
        }
      ]
    }
  ]
}